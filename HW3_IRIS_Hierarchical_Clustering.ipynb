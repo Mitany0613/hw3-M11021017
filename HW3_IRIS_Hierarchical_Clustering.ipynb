{
 "cells": [
  {
   "cell_type": "code",
   "execution_count": 11,
   "metadata": {
    "colab": {
     "base_uri": "https://localhost:8080/"
    },
    "id": "EIVuhWJXdh6K",
    "outputId": "20ab7a5b-68db-4e60-ed3e-38c2c53ed234"
   },
   "outputs": [],
   "source": [
    "import pandas as pd\n",
    "import numpy as np\n",
    "import matplotlib.pyplot as plt\n",
    "import seaborn as sns\n",
    "%matplotlib inline \n",
    "from sklearn import datasets\n"
   ]
  },
  {
   "cell_type": "code",
   "execution_count": 12,
   "metadata": {},
   "outputs": [
    {
     "name": "stdout",
     "output_type": "stream",
     "text": [
      "   SepalLengthCm  SepalWidthCm  PetalLengthCm  PetalWidthCm  Species\n",
      "0            5.1           3.5            1.4           0.2      0.0\n",
      "1            4.9           3.0            1.4           0.2      0.0\n",
      "2            4.7           3.2            1.3           0.2      0.0\n",
      "3            4.6           3.1            1.5           0.2      0.0\n",
      "4            5.0           3.6            1.4           0.2      0.0\n"
     ]
    }
   ],
   "source": [
    "iris = datasets.load_iris()\n",
    "df = pd.DataFrame(data= np.c_[iris['data'], iris['target']],\n",
    "                     columns= ['SepalLengthCm','SepalWidthCm','PetalLengthCm','PetalWidthCm','Species'])\n",
    "print(df.head())"
   ]
  },
  {
   "cell_type": "code",
   "execution_count": 13,
   "metadata": {
    "id": "EwuVedjXuzNi"
   },
   "outputs": [
    {
     "name": "stdout",
     "output_type": "stream",
     "text": [
      "Features :  ['sepal length (cm)', 'sepal width (cm)', 'petal length (cm)', 'petal width (cm)']\n",
      "Target :  ['setosa' 'versicolor' 'virginica']\n",
      "Dataset Size :  (150, 2) (150,)\n"
     ]
    }
   ],
   "source": [
    "# #X表示我們只取幾個特徵空間中的幾個維度\n",
    "X, Y = iris.data[:,2:4], iris.target\n",
    "\n",
    "print(\"Features : \", iris.feature_names)\n",
    "print(\"Target : \", iris.target_names)\n",
    "print('Dataset Size : ', X.shape, Y.shape) "
   ]
  },
  {
   "cell_type": "code",
   "execution_count": 14,
   "metadata": {},
   "outputs": [
    {
     "name": "stdout",
     "output_type": "stream",
     "text": [
      "SepalLengthCm    float64\n",
      "SepalWidthCm     float64\n",
      "PetalLengthCm    float64\n",
      "PetalWidthCm     float64\n",
      "Species          float64\n",
      "dtype: object\n",
      "SepalLengthCm    150\n",
      "SepalWidthCm     150\n",
      "PetalLengthCm    150\n",
      "PetalWidthCm     150\n",
      "Species          150\n",
      "dtype: int64\n",
      "SepalLengthCm    True\n",
      "SepalWidthCm     True\n",
      "PetalLengthCm    True\n",
      "PetalWidthCm     True\n",
      "Species          True\n",
      "dtype: bool\n"
     ]
    }
   ],
   "source": [
    "#該資料數據類型#\n",
    "print(df.dtypes)\n",
    "\n",
    "#用於統計字符串裡某個字符出現的次數#\n",
    "print(df.count())\n",
    "\n",
    "#該資料是否有缺失值#\n",
    "print(df.count()==len(df))"
   ]
  },
  {
   "cell_type": "markdown",
   "metadata": {
    "id": "XfeTYGI3vZ1z"
   },
   "source": [
    "**n_clusters: 要分成幾群 ，給定數值**\n",
    "\n",
    "**affinity: 距離的計算方式，\"euclidean\",\"l1\",\"l2\",\"manhattan\",\"cosine\"...**\n",
    "\n",
    "**linkage: 群與群之間的距離，\"ward\",\"complete\",\"average\",\"single\"**"
   ]
  },
  {
   "cell_type": "code",
   "execution_count": null,
   "metadata": {
    "id": "RBdsZM-1vWYs"
   },
   "outputs": [],
   "source": [
    "from sklearn.cluster import AgglomerativeClustering\n",
    "Hierarchicalmodel=AgglomerativeClustering(n_clusters=3,affinity='euclidean',linkage='complete') #群間距離採用complete#"
   ]
  },
  {
   "cell_type": "code",
   "execution_count": null,
   "metadata": {
    "id": "dLcaFxTJveOX"
   },
   "outputs": [],
   "source": [
    "y_pred = Hierarchicalmodel.fit_predict(X)\n",
    "y_true = iris.target"
   ]
  },
  {
   "cell_type": "code",
   "execution_count": null,
   "metadata": {
    "colab": {
     "base_uri": "https://localhost:8080/",
     "height": 284
    },
    "id": "OSALx5Zzv5uq",
    "outputId": "ddd171bf-3400-4e0b-b29d-0f2a47245775"
   },
   "outputs": [
    {
     "data": {
      "text/plain": [
       "<matplotlib.collections.PathCollection at 0x7f51d60804d0>"
      ]
     },
     "execution_count": 64,
     "metadata": {},
     "output_type": "execute_result"
    },
    {
     "data": {
      "image/png": "[encoded data removed]",
      "text/plain": [
       "<Figure size 432x288 with 1 Axes>"
      ]
     },
     "metadata": {
      "needs_background": "light"
     },
     "output_type": "display_data"
    }
   ],
   "source": [
    "plt.scatter(X[:,0],X[:,1],c=Hierarchicalmodel.fit_predict(X))"
   ]
  },
  {
   "cell_type": "markdown",
   "metadata": {
    "id": "jgq1BWVwv8fx"
   },
   "source": [
    "**metric: 距離的計算方式**\n",
    "\n",
    "**method: 群與群之間的計算方式，\"single\", \"complete\", \"average\", \"weighted\", \"centroid\", \"median\", \"ward\"**"
   ]
  },
  {
   "cell_type": "markdown",
   "metadata": {
    "id": "3bGm5t02xSNb"
   },
   "source": [
    "**階層式樹狀圖**"
   ]
  },
  {
   "cell_type": "code",
   "execution_count": null,
   "metadata": {
    "colab": {
     "base_uri": "https://localhost:8080/",
     "height": 281
    },
    "id": "vcmB9_CvwSw-",
    "outputId": "c26020ac-4003-4979-f55e-b8b8d8d27d6a"
   },
   "outputs": [
    {
     "data": {
      "image/png": "[encoded data removed]",
      "text/plain": [
       "<Figure size 432x288 with 1 Axes>"
      ]
     },
     "metadata": {
      "needs_background": "light"
     },
     "output_type": "display_data"
    }
   ],
   "source": [
    "import scipy.cluster.hierarchy as sch\n",
    "dis=sch.linkage(X,metric='euclidean',method='complete') #群間距離採用complete#\n",
    "sch.dendrogram(dis)\n",
    "plt.title('Hierarchical Clustering')\n",
    "plt.show()"
   ]
  },
  {
   "cell_type": "code",
   "execution_count": null,
   "metadata": {
    "id": "EuOZNbTgelwX"
   },
   "outputs": [],
   "source": [
    "import numpy as np\n",
    "from sklearn import metrics\n",
    "\n",
    "def purity_score(y_true, y_pred):\n",
    "    # compute contingency matrix (also called confusion matrix)\n",
    "    contingency_matrix = metrics.cluster.contingency_matrix(y_true, y_pred)\n",
    "    # return purity\n",
    "    return np.sum(np.amax(contingency_matrix, axis=0)) / np.sum(contingency_matrix) "
   ]
  },
  {
   "cell_type": "markdown",
   "metadata": {
    "id": "wf1abhnXxAfF"
   },
   "source": [
    "**Purity(純度)績效衡量**"
   ]
  },
  {
   "cell_type": "code",
   "execution_count": null,
   "metadata": {
    "colab": {
     "base_uri": "https://localhost:8080/"
    },
    "id": "D0vIvXosgv72",
    "outputId": "b161984f-c2e0-4fd6-8d49-dc1aec4b0bac"
   },
   "outputs": [
    {
     "data": {
      "text/plain": [
       "0.96"
      ]
     },
     "execution_count": 67,
     "metadata": {},
     "output_type": "execute_result"
    }
   ],
   "source": [
    "purity_score(y_true, y_pred)"
   ]
  },
  {
   "cell_type": "markdown",
   "metadata": {
    "id": "co5zfEXaxHe7"
   },
   "source": [
    "**純度為0.96，證明分群效果良好。**"
   ]
  }
 ],
 "metadata": {
  "colab": {
   "collapsed_sections": [],
   "name": "HW3_Hierarchical-Clustering.ipynb",
   "provenance": []
  },
  "kernelspec": {
   "display_name": "Python 3",
   "language": "python",
   "name": "python3"
  },
  "language_info": {
   "codemirror_mode": {
    "name": "ipython",
    "version": 3
   },
   "file_extension": ".py",
   "mimetype": "text/x-python",
   "name": "python",
   "nbconvert_exporter": "python",
   "pygments_lexer": "ipython3",
   "version": "3.7.6"
  }
 },
 "nbformat": 4,
 "nbformat_minor": 1
}
